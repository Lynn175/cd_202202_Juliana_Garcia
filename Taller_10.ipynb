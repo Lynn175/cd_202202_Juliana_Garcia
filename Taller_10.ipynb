{
  "nbformat": 4,
  "nbformat_minor": 0,
  "metadata": {
    "colab": {
      "provenance": []
    },
    "kernelspec": {
      "name": "python3",
      "display_name": "Python 3"
    },
    "language_info": {
      "name": "python"
    }
  },
  "cells": [
    {
      "cell_type": "code",
      "execution_count": 1,
      "metadata": {
        "id": "yCbtSwh-z9pX"
      },
      "outputs": [],
      "source": [
        "import numpy as np\n",
        "import pandas as pd\n",
        "import seaborn as sb\n",
        "import os\n",
        "import matplotlib.pyplot as plt\n",
        "from sklearn.svm import SVC\n",
        "from sklearn.model_selection import train_test_split"
      ]
    },
    {
      "cell_type": "code",
      "source": [
        "dfOriginal = pd.read_csv(\"https://raw.githubusercontent.com/adiacla/bigdata/master/titanic.csv\")"
      ],
      "metadata": {
        "id": "0svB-jVc0J-Q"
      },
      "execution_count": 2,
      "outputs": []
    },
    {
      "cell_type": "markdown",
      "source": [
        "Eliminar datos"
      ],
      "metadata": {
        "id": "5AldJJwd0TkK"
      }
    },
    {
      "cell_type": "code",
      "source": [
        "df = dfOriginal.copy(deep=True)\n",
        "\n",
        "df['Survived'] = df['Survived'].fillna(0)\n",
        "\n",
        "map1 = {'male': 0, 'female': 1}\n",
        "df['Sex'] = df['Sex'].map(map1)\n",
        "\n",
        "df = df.drop(['Cabin', 'Name', 'Ticket', 'PassengerId'], axis= 1)\n",
        "\n",
        "map2 = {'S': 0, 'C': 1, 'Q': 2}\n",
        "df['Embarked'] = df['Embarked'].map(map2)\n",
        "\n",
        "df = df.dropna()\n",
        "\n",
        "df.index = range(df.shape[0])"
      ],
      "metadata": {
        "id": "7y8P96Px0MEN"
      },
      "execution_count": 3,
      "outputs": []
    },
    {
      "cell_type": "markdown",
      "source": [
        "Predicción"
      ],
      "metadata": {
        "id": "pvlpy_9B0XNh"
      }
    },
    {
      "cell_type": "code",
      "source": [
        "columnas = df.columns.to_list()\n",
        "columnas.remove('Survived')\n",
        "\n",
        "predictores = df[columnas]\n",
        "predecir = df.Survived"
      ],
      "metadata": {
        "id": "lVM3Hy0p0gDM"
      },
      "execution_count": 4,
      "outputs": []
    },
    {
      "cell_type": "code",
      "source": [
        "pred_train, pred_test, res_train, res_test = train_test_split(predictores, predecir, test_size=0.2)"
      ],
      "metadata": {
        "id": "l4yq2D3B0jNR"
      },
      "execution_count": 5,
      "outputs": []
    },
    {
      "cell_type": "code",
      "source": [
        "SVM_Model = SVC(gamma='auto', kernel='rbf', C=0.5)\n",
        "SVM_Model.fit(pred_train, res_train)"
      ],
      "metadata": {
        "colab": {
          "base_uri": "https://localhost:8080/"
        },
        "id": "1qReYEqI0lTy",
        "outputId": "ccea3212-c6eb-4062-8669-e324717babe7"
      },
      "execution_count": 6,
      "outputs": [
        {
          "output_type": "execute_result",
          "data": {
            "text/plain": [
              "SVC(C=0.5, gamma='auto')"
            ]
          },
          "metadata": {},
          "execution_count": 6
        }
      ]
    },
    {
      "cell_type": "code",
      "source": [
        "res_test"
      ],
      "metadata": {
        "colab": {
          "base_uri": "https://localhost:8080/"
        },
        "id": "BIMaHzn00nP9",
        "outputId": "745ed8e2-77b2-46c6-d88d-367cc9103efa"
      },
      "execution_count": 7,
      "outputs": [
        {
          "output_type": "execute_result",
          "data": {
            "text/plain": [
              "64     1\n",
              "100    0\n",
              "44     0\n",
              "97     0\n",
              "556    0\n",
              "      ..\n",
              "382    0\n",
              "455    1\n",
              "586    1\n",
              "587    0\n",
              "318    0\n",
              "Name: Survived, Length: 143, dtype: int64"
            ]
          },
          "metadata": {},
          "execution_count": 7
        }
      ]
    },
    {
      "cell_type": "code",
      "source": [
        "print (f'Precisión: {SVM_Model.score(pred_test, res_test):.4f}')"
      ],
      "metadata": {
        "colab": {
          "base_uri": "https://localhost:8080/"
        },
        "id": "mhrGoVY60qZH",
        "outputId": "82a75515-5445-4e20-8ffd-a1fe48b72daf"
      },
      "execution_count": 8,
      "outputs": [
        {
          "output_type": "stream",
          "name": "stdout",
          "text": [
            "Precisión: 0.6713\n"
          ]
        }
      ]
    },
    {
      "cell_type": "markdown",
      "source": [
        "Tiene una predicción aproximada del 67%"
      ],
      "metadata": {
        "id": "yhFwC4XS01oa"
      }
    }
  ]
}