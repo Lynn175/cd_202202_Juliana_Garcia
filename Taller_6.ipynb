{
  "nbformat": 4,
  "nbformat_minor": 0,
  "metadata": {
    "colab": {
      "provenance": []
    },
    "kernelspec": {
      "name": "python3",
      "display_name": "Python 3"
    },
    "language_info": {
      "name": "python"
    }
  },
  "cells": [
    {
      "cell_type": "code",
      "execution_count": 1,
      "metadata": {
        "id": "hnCWK9z8j4ff"
      },
      "outputs": [],
      "source": [
        "import math\n",
        "\n",
        "def distancia(x,y):\n",
        "  return math.sqrt(x**2 + y**2)"
      ]
    },
    {
      "cell_type": "code",
      "source": [
        "cont=0\n",
        "puntosLado=10\n",
        "paso = 1/(puntosLado -1)\n",
        "\n",
        "i = 0 \n",
        "while i<=1:\n",
        "  j=0\n",
        "  while j<=1:                                                                                                                                                                                                                                                                                                                           \n",
        "    if distancia (i,j)<=1:\n",
        "      cont+=1\n",
        "    j+=paso\n",
        "  i+=paso\n",
        "\n",
        "print(\"Puntos:\", cont)\n",
        "print (\"Estimacion de pi:\",(cont * 4/(puntosLado**2)))"
      ],
      "metadata": {
        "colab": {
          "base_uri": "https://localhost:8080/"
        },
        "id": "Gqs0SRfAkTrD",
        "outputId": "aed2eb6f-a00b-41f0-9806-bd083501a04c"
      },
      "execution_count": 2,
      "outputs": [
        {
          "output_type": "stream",
          "name": "stdout",
          "text": [
            "Puntos: 71\n",
            "Estimacion de pi: 2.84\n"
          ]
        }
      ]
    },
    {
      "cell_type": "markdown",
      "source": [
        "Numeros random"
      ],
      "metadata": {
        "id": "d0PXt5bduZL2"
      }
    },
    {
      "cell_type": "code",
      "source": [
        "import random \n",
        "\n",
        "intervalo= 100000\n",
        "\n",
        "circle_points=0\n",
        "square_points=0\n",
        "\n",
        "for i in range (intervalo):\n",
        "  rand_x=random.uniform(0,1)\n",
        "  rand_y=random.uniform(0,1)\n",
        "\n",
        "  origin_dist=distancia(rand_x,rand_y)\n",
        "\n",
        "  if origin_dist <= 1:\n",
        "    circle_points += 1\n",
        "  square_points+=1\n",
        "\n",
        "  pi = 4*circle_points/square_points\n",
        "\n",
        "print(\"Puntos:\", square_points)\n",
        "print(\"Estimacion de pi:\", pi)"
      ],
      "metadata": {
        "colab": {
          "base_uri": "https://localhost:8080/"
        },
        "id": "wb7WPOUusWos",
        "outputId": "07539517-aba7-4868-ab46-8e5db5a38ab6"
      },
      "execution_count": 5,
      "outputs": [
        {
          "output_type": "stream",
          "name": "stdout",
          "text": [
            "Puntos: 100000\n",
            "Estimacion de pi: 3.13716\n"
          ]
        }
      ]
    }
  ]
}